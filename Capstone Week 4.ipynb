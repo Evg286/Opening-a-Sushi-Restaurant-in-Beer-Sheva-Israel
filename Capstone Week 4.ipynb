{
 "cells": [
  {
   "cell_type": "markdown",
   "metadata": {},
   "source": [
    "## Opening a Sushi Restaurant in Beer Sheva, Israel"
   ]
  },
  {
   "cell_type": "markdown",
   "metadata": {},
   "source": [
    "#### Introduction\n",
    "\n",
    "Mrs. Name wishes to expand her Sushi franchise into Beer Sheva, Israel. The purpose of this work to help her find suitable locations in Beer Sheva for Mrs. Name's restaurant. "
   ]
  },
  {
   "cell_type": "markdown",
   "metadata": {},
   "source": [
    "#### Data\n",
    "\n",
    "The final product will be a list of suitable locations. To produce this list, we will use the Foursquare API and available data from the Beer Sheva Municipality, Google Maps, The Israel Bureau of Statistics, local real estate websites. "
   ]
  },
  {
   "cell_type": "markdown",
   "metadata": {},
   "source": [
    "#### Methodology and Breakdown\n",
    "\n",
    "Each property will be assigned a score based on the cost of rent versus the venue’s potential, as a function of its location, and a hierarchy will be established.\n",
    "\n",
    "Stage 1\n",
    "Devising a venue scoring system based on location, cost of rent, and market saturation.\n",
    "\n",
    "Stage 2\n",
    "Mapping available places for rent, competitors, and building a hierarchy locations based on the scoring system from the previous stage\n",
    "\n",
    "Stage 3\n",
    "Assigning a score to each location\n",
    "\n",
    "Stage 4\n",
    "Creating a list of locations based on rank, complete with pros and cons per each location (e.g., pros: central location, cons: expensive, saturated location)\n"
   ]
  },
  {
   "cell_type": "code",
   "execution_count": null,
   "metadata": {},
   "outputs": [],
   "source": []
  }
 ],
 "metadata": {
  "kernelspec": {
   "display_name": "Python 3",
   "language": "python",
   "name": "python3"
  },
  "language_info": {
   "codemirror_mode": {
    "name": "ipython",
    "version": 3
   },
   "file_extension": ".py",
   "mimetype": "text/x-python",
   "name": "python",
   "nbconvert_exporter": "python",
   "pygments_lexer": "ipython3",
   "version": "3.8.5"
  }
 },
 "nbformat": 4,
 "nbformat_minor": 4
}
